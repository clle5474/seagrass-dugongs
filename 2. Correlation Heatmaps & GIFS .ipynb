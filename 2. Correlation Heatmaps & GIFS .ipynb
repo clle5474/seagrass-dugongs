{
 "cells": [
  {
   "cell_type": "markdown",
   "id": "33c4fde1",
   "metadata": {},
   "source": [
    "# Import Libraries and Dataset"
   ]
  },
  {
   "cell_type": "code",
   "execution_count": 2,
   "id": "46a79582",
   "metadata": {},
   "outputs": [
    {
     "name": "stderr",
     "output_type": "stream",
     "text": [
      "libpodofo.so.0.9.8: cannot open shared object file: No such file or directory\n",
      "libpodofo.so.0.9.8: cannot open shared object file: No such file or directory\n",
      "/usr/lib/gdalplugins/ogr_Arrow.so: undefined symbol: _ZNK5arrow8DataType18ComputeFingerprintB5cxx11Ev\n",
      "/usr/lib/gdalplugins/ogr_Arrow.so: undefined symbol: _ZNK5arrow8DataType18ComputeFingerprintB5cxx11Ev\n",
      "/usr/lib/gdalplugins/ogr_Parquet.so: undefined symbol: _ZNK5arrow8DataType18ComputeFingerprintB5cxx11Ev\n",
      "/usr/lib/gdalplugins/ogr_Parquet.so: undefined symbol: _ZNK5arrow8DataType18ComputeFingerprintB5cxx11Ev\n",
      "libpodofo.so.0.9.8: cannot open shared object file: No such file or directory\n",
      "libpodofo.so.0.9.8: cannot open shared object file: No such file or directory\n",
      "/usr/lib/gdalplugins/ogr_Arrow.so: undefined symbol: _ZNK5arrow8DataType18ComputeFingerprintB5cxx11Ev\n",
      "/usr/lib/gdalplugins/ogr_Arrow.so: undefined symbol: _ZNK5arrow8DataType18ComputeFingerprintB5cxx11Ev\n",
      "/usr/lib/gdalplugins/ogr_Parquet.so: undefined symbol: _ZNK5arrow8DataType18ComputeFingerprintB5cxx11Ev\n",
      "/usr/lib/gdalplugins/ogr_Parquet.so: undefined symbol: _ZNK5arrow8DataType18ComputeFingerprintB5cxx11Ev\n"
     ]
    }
   ],
   "source": [
    "import os\n",
    "import numpy as np\n",
    "import pandas as pd\n",
    "import xarray as xr\n",
    "\n",
    "import shutil\n",
    "from PIL import Image\n",
    "\n",
    "import cartopy\n",
    "import cartopy.crs as ccrs\n",
    "import cartopy.feature as cfeature\n",
    "from cartopy.mpl.gridliner import LONGITUDE_FORMATTER, LATITUDE_FORMATTER\n",
    "cartopy.config['data_dir'] = os.getenv('CARTOPY_DIR', cartopy.config.get('data_dir'))\n",
    "\n",
    "import cmocean\n",
    "\n",
    "from matplotlib import pyplot as plt\n",
    "\n",
    "import warnings\n",
    "warnings.filterwarnings(\"ignore\", category=RuntimeWarning) \n",
    "\n",
    "from matplotlib import pyplot as plt\n",
    "%matplotlib inline"
   ]
  },
  {
   "cell_type": "markdown",
   "id": "8056bd1e",
   "metadata": {},
   "source": [
    "# Creating the Correlation Heatmaps"
   ]
  },
  {
   "cell_type": "markdown",
   "id": "2cd737a9",
   "metadata": {},
   "source": [
    "To determine which sites and variables to select for our final analysis, we created a correlation heatmap. "
   ]
  },
  {
   "cell_type": "markdown",
   "id": "28730fdf",
   "metadata": {},
   "source": [
    "### Reading the dataset"
   ]
  },
  {
   "cell_type": "markdown",
   "id": "2f6ba6db",
   "metadata": {},
   "source": [
    "We will be analysing data at each site across the years, so we first need to combine each year's xarray into a single xarray. Again, we will use the Hervey Bay site as an example. \n",
    "\n",
    "Note: this is being read from a folder called Hervey Bay so the folder name needs to also be specified. "
   ]
  },
  {
   "cell_type": "code",
   "execution_count": 3,
   "id": "ad8d12a5",
   "metadata": {},
   "outputs": [],
   "source": [
    "data = xr.open_mfdataset('HerveyBay/HerveyBay*.nc')"
   ]
  },
  {
   "cell_type": "markdown",
   "id": "f1d0eec3",
   "metadata": {},
   "source": [
    "In order to create the correlation heatmap, we will need to transform the data from an xarray into a dataframe"
   ]
  },
  {
   "cell_type": "code",
   "execution_count": 4,
   "id": "7258d955",
   "metadata": {},
   "outputs": [],
   "source": [
    "ds = data.to_dataframe()"
   ]
  },
  {
   "cell_type": "markdown",
   "id": "2e9803be",
   "metadata": {},
   "source": [
    "Now we can view the dataframe for Hervey Bay  just created"
   ]
  },
  {
   "cell_type": "code",
   "execution_count": 5,
   "id": "17b8c79f",
   "metadata": {},
   "outputs": [
    {
     "data": {
      "text/html": [
       "<div>\n",
       "<style scoped>\n",
       "    .dataframe tbody tr th:only-of-type {\n",
       "        vertical-align: middle;\n",
       "    }\n",
       "\n",
       "    .dataframe tbody tr th {\n",
       "        vertical-align: top;\n",
       "    }\n",
       "\n",
       "    .dataframe thead th {\n",
       "        text-align: right;\n",
       "    }\n",
       "</style>\n",
       "<table border=\"1\" class=\"dataframe\">\n",
       "  <thead>\n",
       "    <tr style=\"text-align: right;\">\n",
       "      <th></th>\n",
       "      <th></th>\n",
       "      <th></th>\n",
       "      <th>TOTAL_NITROGEN</th>\n",
       "      <th>temp</th>\n",
       "      <th>salinity</th>\n",
       "      <th>light</th>\n",
       "      <th>seagrass</th>\n",
       "    </tr>\n",
       "    <tr>\n",
       "      <th>time</th>\n",
       "      <th>latitude</th>\n",
       "      <th>longitude</th>\n",
       "      <th></th>\n",
       "      <th></th>\n",
       "      <th></th>\n",
       "      <th></th>\n",
       "      <th></th>\n",
       "    </tr>\n",
       "  </thead>\n",
       "  <tbody>\n",
       "    <tr>\n",
       "      <th rowspan=\"5\" valign=\"top\">2011-01-01 02:00:00</th>\n",
       "      <th rowspan=\"5\" valign=\"top\">-25.786022</th>\n",
       "      <th>152.308788</th>\n",
       "      <td>NaN</td>\n",
       "      <td>NaN</td>\n",
       "      <td>NaN</td>\n",
       "      <td>NaN</td>\n",
       "      <td>NaN</td>\n",
       "    </tr>\n",
       "    <tr>\n",
       "      <th>152.338788</th>\n",
       "      <td>NaN</td>\n",
       "      <td>NaN</td>\n",
       "      <td>NaN</td>\n",
       "      <td>NaN</td>\n",
       "      <td>NaN</td>\n",
       "    </tr>\n",
       "    <tr>\n",
       "      <th>152.368788</th>\n",
       "      <td>NaN</td>\n",
       "      <td>NaN</td>\n",
       "      <td>NaN</td>\n",
       "      <td>NaN</td>\n",
       "      <td>NaN</td>\n",
       "    </tr>\n",
       "    <tr>\n",
       "      <th>152.398788</th>\n",
       "      <td>NaN</td>\n",
       "      <td>NaN</td>\n",
       "      <td>NaN</td>\n",
       "      <td>NaN</td>\n",
       "      <td>NaN</td>\n",
       "    </tr>\n",
       "    <tr>\n",
       "      <th>152.428788</th>\n",
       "      <td>NaN</td>\n",
       "      <td>NaN</td>\n",
       "      <td>NaN</td>\n",
       "      <td>NaN</td>\n",
       "      <td>NaN</td>\n",
       "    </tr>\n",
       "    <tr>\n",
       "      <th>...</th>\n",
       "      <th>...</th>\n",
       "      <th>...</th>\n",
       "      <td>...</td>\n",
       "      <td>...</td>\n",
       "      <td>...</td>\n",
       "      <td>...</td>\n",
       "      <td>...</td>\n",
       "    </tr>\n",
       "    <tr>\n",
       "      <th rowspan=\"5\" valign=\"top\">2014-12-31 02:00:00</th>\n",
       "      <th rowspan=\"5\" valign=\"top\">-24.826022</th>\n",
       "      <th>153.178788</th>\n",
       "      <td>94.657639</td>\n",
       "      <td>28.645439</td>\n",
       "      <td>35.992073</td>\n",
       "      <td>51.149826</td>\n",
       "      <td>1.000000e-12</td>\n",
       "    </tr>\n",
       "    <tr>\n",
       "      <th>153.208788</th>\n",
       "      <td>NaN</td>\n",
       "      <td>NaN</td>\n",
       "      <td>NaN</td>\n",
       "      <td>NaN</td>\n",
       "      <td>NaN</td>\n",
       "    </tr>\n",
       "    <tr>\n",
       "      <th>153.238788</th>\n",
       "      <td>73.888550</td>\n",
       "      <td>26.539118</td>\n",
       "      <td>35.544266</td>\n",
       "      <td>40.702541</td>\n",
       "      <td>1.000000e-12</td>\n",
       "    </tr>\n",
       "    <tr>\n",
       "      <th>153.268788</th>\n",
       "      <td>74.112617</td>\n",
       "      <td>26.245874</td>\n",
       "      <td>35.527679</td>\n",
       "      <td>37.264812</td>\n",
       "      <td>1.000000e-12</td>\n",
       "    </tr>\n",
       "    <tr>\n",
       "      <th>153.298788</th>\n",
       "      <td>74.420456</td>\n",
       "      <td>26.209278</td>\n",
       "      <td>35.533760</td>\n",
       "      <td>19.605610</td>\n",
       "      <td>1.000000e-12</td>\n",
       "    </tr>\n",
       "  </tbody>\n",
       "</table>\n",
       "<p>1639242 rows × 5 columns</p>\n",
       "</div>"
      ],
      "text/plain": [
       "                                           TOTAL_NITROGEN       temp  \\\n",
       "time                latitude   longitude                               \n",
       "2011-01-01 02:00:00 -25.786022 152.308788             NaN        NaN   \n",
       "                               152.338788             NaN        NaN   \n",
       "                               152.368788             NaN        NaN   \n",
       "                               152.398788             NaN        NaN   \n",
       "                               152.428788             NaN        NaN   \n",
       "...                                                   ...        ...   \n",
       "2014-12-31 02:00:00 -24.826022 153.178788       94.657639  28.645439   \n",
       "                               153.208788             NaN        NaN   \n",
       "                               153.238788       73.888550  26.539118   \n",
       "                               153.268788       74.112617  26.245874   \n",
       "                               153.298788       74.420456  26.209278   \n",
       "\n",
       "                                            salinity      light      seagrass  \n",
       "time                latitude   longitude                                       \n",
       "2011-01-01 02:00:00 -25.786022 152.308788        NaN        NaN           NaN  \n",
       "                               152.338788        NaN        NaN           NaN  \n",
       "                               152.368788        NaN        NaN           NaN  \n",
       "                               152.398788        NaN        NaN           NaN  \n",
       "                               152.428788        NaN        NaN           NaN  \n",
       "...                                              ...        ...           ...  \n",
       "2014-12-31 02:00:00 -24.826022 153.178788  35.992073  51.149826  1.000000e-12  \n",
       "                               153.208788        NaN        NaN           NaN  \n",
       "                               153.238788  35.544266  40.702541  1.000000e-12  \n",
       "                               153.268788  35.527679  37.264812  1.000000e-12  \n",
       "                               153.298788  35.533760  19.605610  1.000000e-12  \n",
       "\n",
       "[1639242 rows x 5 columns]"
      ]
     },
     "execution_count": 5,
     "metadata": {},
     "output_type": "execute_result"
    }
   ],
   "source": [
    "ds"
   ]
  },
  {
   "cell_type": "markdown",
   "id": "cc4201ab",
   "metadata": {},
   "source": [
    "### Plotting the correlation heatmap"
   ]
  },
  {
   "cell_type": "markdown",
   "id": "df465905",
   "metadata": {},
   "source": [
    "Now the dataframe has been created, we can proceed with plotting our heatmap"
   ]
  },
  {
   "cell_type": "code",
   "execution_count": 6,
   "id": "f2471e4c",
   "metadata": {},
   "outputs": [
    {
     "data": {
      "image/png": "[encoded data removed]",
      "text/plain": [
       "<Figure size 640x480 with 2 Axes>"
      ]
     },
     "metadata": {},
     "output_type": "display_data"
    }
   ],
   "source": [
    "corr = ds.corr()\n",
    "fig = plt.figure()\n",
    "ax = fig.add_subplot(111)\n",
    "cax = ax.matshow(corr,cmap= 'seismic', vmin=-1, vmax=1)\n",
    "fig.colorbar(cax)\n",
    "ticks = np.arange(0,len(ds.columns),1)\n",
    "\n",
    "# Adding the axis labels \n",
    "\n",
    "ax.set_xticks(ticks)\n",
    "plt.xticks(rotation=360)\n",
    "ax.set_yticks(ticks)\n",
    "ax.set_xticklabels(['Ni','T','S','L','SG'],fontsize=13,weight='bold')\n",
    "ax.set_yticklabels(['Ni','T','S','L','SG'],fontsize=13,weight='bold')\n",
    "\n",
    "# Adding the title\n",
    "\n",
    "plt.title('Hervey Bay Correlation Heatmap', y=-0.01, pad=-20, fontsize=13, weight='bold')\n",
    "\n",
    "# Saving the figure and displaying the plot\n",
    "\n",
    "plt.savefig('HerveyBay/Correlation Heatmap of Hervey Bay', dpi=300, bbox_inches = \"tight\")\n",
    "plt.show()"
   ]
  },
  {
   "cell_type": "markdown",
   "id": "a572f162",
   "metadata": {},
   "source": [
    "This needs to be repeated for each site"
   ]
  },
  {
   "cell_type": "markdown",
   "id": "a70aa50c",
   "metadata": {},
   "source": [
    " "
   ]
  },
  {
   "cell_type": "markdown",
   "id": "976934f5",
   "metadata": {},
   "source": [
    " "
   ]
  },
  {
   "cell_type": "markdown",
   "id": "027bf420",
   "metadata": {},
   "source": [
    "# Creating the GIFs"
   ]
  },
  {
   "cell_type": "markdown",
   "id": "4eb07fc7",
   "metadata": {},
   "source": [
    "To determine the slice of area within each site to focus on, we created a series of GIFs."
   ]
  },
  {
   "cell_type": "markdown",
   "id": "5f47ec37",
   "metadata": {},
   "source": [
    "### Reading the dataset"
   ]
  },
  {
   "cell_type": "markdown",
   "id": "b2257263",
   "metadata": {},
   "source": [
    "Here we read the dataset for the year which the GIFs are to be created for. Again using Hervey Bay as the example and the year 2011. \n",
    "\n",
    "Note: this is being read from a folder called Hervey Bay so the folder name needs to also be specified. "
   ]
  },
  {
   "cell_type": "code",
   "execution_count": 6,
   "id": "fa8bbc2c",
   "metadata": {},
   "outputs": [],
   "source": [
    "HerveyBay2011 = xr.open_dataset('HerveyBay/HerveyBay2011.nc')"
   ]
  },
  {
   "cell_type": "markdown",
   "id": "cbce2852",
   "metadata": {},
   "source": [
    "Now we view the xarray for Hervey Bay 2011:"
   ]
  },
  {
   "cell_type": "code",
   "execution_count": 7,
   "id": "36896d7b",
   "metadata": {},
   "outputs": [
    {
     "data": {
      "text/html": [
       "<div><svg style=\"position: absolute; width: 0; height: 0; overflow: hidden\">\n",
       "<defs>\n",
       "<symbol id=\"icon-database\" viewBox=\"0 0 32 32\">\n",
       "<path d=\"M16 0c-8.837 0-16 2.239-16 5v4c0 2.761 7.163 5 16 5s16-2.239 16-5v-4c0-2.761-7.163-5-16-5z\"></path>\n",
       "<path d=\"M16 17c-8.837 0-16-2.239-16-5v6c0 2.761 7.163 5 16 5s16-2.239 16-5v-6c0 2.761-7.163 5-16 5z\"></path>\n",
       "<path d=\"M16 26c-8.837 0-16-2.239-16-5v6c0 2.761 7.163 5 16 5s16-2.239 16-5v-6c0 2.761-7.163 5-16 5z\"></path>\n",
       "</symbol>\n",
       "<symbol id=\"icon-file-text2\" viewBox=\"0 0 32 32\">\n",
       "<path d=\"M28.681 7.159c-0.694-0.947-1.662-2.053-2.724-3.116s-2.169-2.030-3.116-2.724c-1.612-1.182-2.393-1.319-2.841-1.319h-15.5c-1.378 0-2.5 1.121-2.5 2.5v27c0 1.378 1.122 2.5 2.5 2.5h23c1.378 0 2.5-1.122 2.5-2.5v-19.5c0-0.448-0.137-1.23-1.319-2.841zM24.543 5.457c0.959 0.959 1.712 1.825 2.268 2.543h-4.811v-4.811c0.718 0.556 1.584 1.309 2.543 2.268zM28 29.5c0 0.271-0.229 0.5-0.5 0.5h-23c-0.271 0-0.5-0.229-0.5-0.5v-27c0-0.271 0.229-0.5 0.5-0.5 0 0 15.499-0 15.5 0v7c0 0.552 0.448 1 1 1h7v19.5z\"></path>\n",
       "<path d=\"M23 26h-14c-0.552 0-1-0.448-1-1s0.448-1 1-1h14c0.552 0 1 0.448 1 1s-0.448 1-1 1z\"></path>\n",
       "<path d=\"M23 22h-14c-0.552 0-1-0.448-1-1s0.448-1 1-1h14c0.552 0 1 0.448 1 1s-0.448 1-1 1z\"></path>\n",
       "<path d=\"M23 18h-14c-0.552 0-1-0.448-1-1s0.448-1 1-1h14c0.552 0 1 0.448 1 1s-0.448 1-1 1z\"></path>\n",
       "</symbol>\n",
       "</defs>\n",
       "</svg>\n",
       "<style>/* CSS stylesheet for displaying xarray objects in jupyterlab.\n",
       " *\n",
       " */\n",
       "\n",
       ":root {\n",
       "  --xr-font-color0: var(--jp-content-font-color0, rgba(0, 0, 0, 1));\n",
       "  --xr-font-color2: var(--jp-content-font-color2, rgba(0, 0, 0, 0.54));\n",
       "  --xr-font-color3: var(--jp-content-font-color3, rgba(0, 0, 0, 0.38));\n",
       "  --xr-border-color: var(--jp-border-color2, #e0e0e0);\n",
       "  --xr-disabled-color: var(--jp-layout-color3, #bdbdbd);\n",
       "  --xr-background-color: var(--jp-layout-color0, white);\n",
       "  --xr-background-color-row-even: var(--jp-layout-color1, white);\n",
       "  --xr-background-color-row-odd: var(--jp-layout-color2, #eeeeee);\n",
       "}\n",
       "\n",
       "html[theme=dark],\n",
       "body[data-theme=dark],\n",
       "body.vscode-dark {\n",
       "  --xr-font-color0: rgba(255, 255, 255, 1);\n",
       "  --xr-font-color2: rgba(255, 255, 255, 0.54);\n",
       "  --xr-font-color3: rgba(255, 255, 255, 0.38);\n",
       "  --xr-border-color: #1F1F1F;\n",
       "  --xr-disabled-color: #515151;\n",
       "  --xr-background-color: #111111;\n",
       "  --xr-background-color-row-even: #111111;\n",
       "  --xr-background-color-row-odd: #313131;\n",
       "}\n",
       "\n",
       ".xr-wrap {\n",
       "  display: block !important;\n",
       "  min-width: 300px;\n",
       "  max-width: 700px;\n",
       "}\n",
       "\n",
       ".xr-text-repr-fallback {\n",
       "  /* fallback to plain text repr when CSS is not injected (untrusted notebook) */\n",
       "  display: none;\n",
       "}\n",
       "\n",
       ".xr-header {\n",
       "  padding-top: 6px;\n",
       "  padding-bottom: 6px;\n",
       "  margin-bottom: 4px;\n",
       "  border-bottom: solid 1px var(--xr-border-color);\n",
       "}\n",
       "\n",
       ".xr-header > div,\n",
       ".xr-header > ul {\n",
       "  display: inline;\n",
       "  margin-top: 0;\n",
       "  margin-bottom: 0;\n",
       "}\n",
       "\n",
       ".xr-obj-type,\n",
       ".xr-array-name {\n",
       "  margin-left: 2px;\n",
       "  margin-right: 10px;\n",
       "}\n",
       "\n",
       ".xr-obj-type {\n",
       "  color: var(--xr-font-color2);\n",
       "}\n",
       "\n",
       ".xr-sections {\n",
       "  padding-left: 0 !important;\n",
       "  display: grid;\n",
       "  grid-template-columns: 150px auto auto 1fr 20px 20px;\n",
       "}\n",
       "\n",
       ".xr-section-item {\n",
       "  display: contents;\n",
       "}\n",
       "\n",
       ".xr-section-item input {\n",
       "  display: none;\n",
       "}\n",
       "\n",
       ".xr-section-item input + label {\n",
       "  color: var(--xr-disabled-color);\n",
       "}\n",
       "\n",
       ".xr-section-item input:enabled + label {\n",
       "  cursor: pointer;\n",
       "  color: var(--xr-font-color2);\n",
       "}\n",
       "\n",
       ".xr-section-item input:enabled + label:hover {\n",
       "  color: var(--xr-font-color0);\n",
       "}\n",
       "\n",
       ".xr-section-summary {\n",
       "  grid-column: 1;\n",
       "  color: var(--xr-font-color2);\n",
       "  font-weight: 500;\n",
       "}\n",
       "\n",
       ".xr-section-summary > span {\n",
       "  display: inline-block;\n",
       "  padding-left: 0.5em;\n",
       "}\n",
       "\n",
       ".xr-section-summary-in:disabled + label {\n",
       "  color: var(--xr-font-color2);\n",
       "}\n",
       "\n",
       ".xr-section-summary-in + label:before {\n",
       "  display: inline-block;\n",
       "  content: '►';\n",
       "  font-size: 11px;\n",
       "  width: 15px;\n",
       "  text-align: center;\n",
       "}\n",
       "\n",
       ".xr-section-summary-in:disabled + label:before {\n",
       "  color: var(--xr-disabled-color);\n",
       "}\n",
       "\n",
       ".xr-section-summary-in:checked + label:before {\n",
       "  content: '▼';\n",
       "}\n",
       "\n",
       ".xr-section-summary-in:checked + label > span {\n",
       "  display: none;\n",
       "}\n",
       "\n",
       ".xr-section-summary,\n",
       ".xr-section-inline-details {\n",
       "  padding-top: 4px;\n",
       "  padding-bottom: 4px;\n",
       "}\n",
       "\n",
       ".xr-section-inline-details {\n",
       "  grid-column: 2 / -1;\n",
       "}\n",
       "\n",
       ".xr-section-details {\n",
       "  display: none;\n",
       "  grid-column: 1 / -1;\n",
       "  margin-bottom: 5px;\n",
       "}\n",
       "\n",
       ".xr-section-summary-in:checked ~ .xr-section-details {\n",
       "  display: contents;\n",
       "}\n",
       "\n",
       ".xr-array-wrap {\n",
       "  grid-column: 1 / -1;\n",
       "  display: grid;\n",
       "  grid-template-columns: 20px auto;\n",
       "}\n",
       "\n",
       ".xr-array-wrap > label {\n",
       "  grid-column: 1;\n",
       "  vertical-align: top;\n",
       "}\n",
       "\n",
       ".xr-preview {\n",
       "  color: var(--xr-font-color3);\n",
       "}\n",
       "\n",
       ".xr-array-preview,\n",
       ".xr-array-data {\n",
       "  padding: 0 5px !important;\n",
       "  grid-column: 2;\n",
       "}\n",
       "\n",
       ".xr-array-data,\n",
       ".xr-array-in:checked ~ .xr-array-preview {\n",
       "  display: none;\n",
       "}\n",
       "\n",
       ".xr-array-in:checked ~ .xr-array-data,\n",
       ".xr-array-preview {\n",
       "  display: inline-block;\n",
       "}\n",
       "\n",
       ".xr-dim-list {\n",
       "  display: inline-block !important;\n",
       "  list-style: none;\n",
       "  padding: 0 !important;\n",
       "  margin: 0;\n",
       "}\n",
       "\n",
       ".xr-dim-list li {\n",
       "  display: inline-block;\n",
       "  padding: 0;\n",
       "  margin: 0;\n",
       "}\n",
       "\n",
       ".xr-dim-list:before {\n",
       "  content: '(';\n",
       "}\n",
       "\n",
       ".xr-dim-list:after {\n",
       "  content: ')';\n",
       "}\n",
       "\n",
       ".xr-dim-list li:not(:last-child):after {\n",
       "  content: ',';\n",
       "  padding-right: 5px;\n",
       "}\n",
       "\n",
       ".xr-has-index {\n",
       "  font-weight: bold;\n",
       "}\n",
       "\n",
       ".xr-var-list,\n",
       ".xr-var-item {\n",
       "  display: contents;\n",
       "}\n",
       "\n",
       ".xr-var-item > div,\n",
       ".xr-var-item label,\n",
       ".xr-var-item > .xr-var-name span {\n",
       "  background-color: var(--xr-background-color-row-even);\n",
       "  margin-bottom: 0;\n",
       "}\n",
       "\n",
       ".xr-var-item > .xr-var-name:hover span {\n",
       "  padding-right: 5px;\n",
       "}\n",
       "\n",
       ".xr-var-list > li:nth-child(odd) > div,\n",
       ".xr-var-list > li:nth-child(odd) > label,\n",
       ".xr-var-list > li:nth-child(odd) > .xr-var-name span {\n",
       "  background-color: var(--xr-background-color-row-odd);\n",
       "}\n",
       "\n",
       ".xr-var-name {\n",
       "  grid-column: 1;\n",
       "}\n",
       "\n",
       ".xr-var-dims {\n",
       "  grid-column: 2;\n",
       "}\n",
       "\n",
       ".xr-var-dtype {\n",
       "  grid-column: 3;\n",
       "  text-align: right;\n",
       "  color: var(--xr-font-color2);\n",
       "}\n",
       "\n",
       ".xr-var-preview {\n",
       "  grid-column: 4;\n",
       "}\n",
       "\n",
       ".xr-var-name,\n",
       ".xr-var-dims,\n",
       ".xr-var-dtype,\n",
       ".xr-preview,\n",
       ".xr-attrs dt {\n",
       "  white-space: nowrap;\n",
       "  overflow: hidden;\n",
       "  text-overflow: ellipsis;\n",
       "  padding-right: 10px;\n",
       "}\n",
       "\n",
       ".xr-var-name:hover,\n",
       ".xr-var-dims:hover,\n",
       ".xr-var-dtype:hover,\n",
       ".xr-attrs dt:hover {\n",
       "  overflow: visible;\n",
       "  width: auto;\n",
       "  z-index: 1;\n",
       "}\n",
       "\n",
       ".xr-var-attrs,\n",
       ".xr-var-data {\n",
       "  display: none;\n",
       "  background-color: var(--xr-background-color) !important;\n",
       "  padding-bottom: 5px !important;\n",
       "}\n",
       "\n",
       ".xr-var-attrs-in:checked ~ .xr-var-attrs,\n",
       ".xr-var-data-in:checked ~ .xr-var-data {\n",
       "  display: block;\n",
       "}\n",
       "\n",
       ".xr-var-data > table {\n",
       "  float: right;\n",
       "}\n",
       "\n",
       ".xr-var-name span,\n",
       ".xr-var-data,\n",
       ".xr-attrs {\n",
       "  padding-left: 25px !important;\n",
       "}\n",
       "\n",
       ".xr-attrs,\n",
       ".xr-var-attrs,\n",
       ".xr-var-data {\n",
       "  grid-column: 1 / -1;\n",
       "}\n",
       "\n",
       "dl.xr-attrs {\n",
       "  padding: 0;\n",
       "  margin: 0;\n",
       "  display: grid;\n",
       "  grid-template-columns: 125px auto;\n",
       "}\n",
       "\n",
       ".xr-attrs dt,\n",
       ".xr-attrs dd {\n",
       "  padding: 0;\n",
       "  margin: 0;\n",
       "  float: left;\n",
       "  padding-right: 10px;\n",
       "  width: auto;\n",
       "}\n",
       "\n",
       ".xr-attrs dt {\n",
       "  font-weight: normal;\n",
       "  grid-column: 1;\n",
       "}\n",
       "\n",
       ".xr-attrs dt:hover span {\n",
       "  display: inline-block;\n",
       "  background: var(--xr-background-color);\n",
       "  padding-right: 10px;\n",
       "}\n",
       "\n",
       ".xr-attrs dd {\n",
       "  grid-column: 2;\n",
       "  white-space: pre-wrap;\n",
       "  word-break: break-all;\n",
       "}\n",
       "\n",
       ".xr-icon-database,\n",
       ".xr-icon-file-text2 {\n",
       "  display: inline-block;\n",
       "  vertical-align: middle;\n",
       "  width: 1em;\n",
       "  height: 1.5em !important;\n",
       "  stroke-width: 0;\n",
       "  stroke: currentColor;\n",
       "  fill: currentColor;\n",
       "}\n",
       "</style><pre class='xr-text-repr-fallback'>&lt;xarray.Dataset&gt;\n",
       "Dimensions:         (time: 365, latitude: 33, longitude: 34)\n",
       "Coordinates:\n",
       "  * time            (time) datetime64[ns] 2011-01-01T02:00:00 ... 2011-12-31T...\n",
       "  * latitude        (latitude) float64 -25.79 -25.76 -25.73 ... -24.86 -24.83\n",
       "  * longitude       (longitude) float64 152.3 152.3 152.4 ... 153.2 153.3 153.3\n",
       "Data variables:\n",
       "    TOTAL_NITROGEN  (time, latitude, longitude) float32 ...\n",
       "    temp            (time, latitude, longitude) float32 ...\n",
       "    salinity        (time, latitude, longitude) float32 ...\n",
       "    light           (time, latitude, longitude) float32 ...\n",
       "    seagrass        (time, latitude, longitude) float32 ...</pre><div class='xr-wrap' style='display:none'><div class='xr-header'><div class='xr-obj-type'>xarray.Dataset</div></div><ul class='xr-sections'><li class='xr-section-item'><input id='section-242fc2c4-d05b-4f7b-be68-ae2fd7f09adb' class='xr-section-summary-in' type='checkbox' disabled ><label for='section-242fc2c4-d05b-4f7b-be68-ae2fd7f09adb' class='xr-section-summary'  title='Expand/collapse section'>Dimensions:</label><div class='xr-section-inline-details'><ul class='xr-dim-list'><li><span class='xr-has-index'>time</span>: 365</li><li><span class='xr-has-index'>latitude</span>: 33</li><li><span class='xr-has-index'>longitude</span>: 34</li></ul></div><div class='xr-section-details'></div></li><li class='xr-section-item'><input id='section-dc14881e-5564-4cca-b07c-1d0d0d2d70c6' class='xr-section-summary-in' type='checkbox'  checked><label for='section-dc14881e-5564-4cca-b07c-1d0d0d2d70c6' class='xr-section-summary' >Coordinates: <span>(3)</span></label><div class='xr-section-inline-details'></div><div class='xr-section-details'><ul class='xr-var-list'><li class='xr-var-item'><div class='xr-var-name'><span class='xr-has-index'>time</span></div><div class='xr-var-dims'>(time)</div><div class='xr-var-dtype'>datetime64[ns]</div><div class='xr-var-preview xr-preview'>2011-01-01T02:00:00 ... 2011-12-...</div><input id='attrs-b853c6bf-4f90-4e4a-bba6-b0a28c685299' class='xr-var-attrs-in' type='checkbox' ><label for='attrs-b853c6bf-4f90-4e4a-bba6-b0a28c685299' title='Show/Hide attributes'><svg class='icon xr-icon-file-text2'><use xlink:href='#icon-file-text2'></use></svg></label><input id='data-c9ccfecb-7dca-4f5d-a41b-1e9e9d947532' class='xr-var-data-in' type='checkbox'><label for='data-c9ccfecb-7dca-4f5d-a41b-1e9e9d947532' title='Show/Hide data repr'><svg class='icon xr-icon-database'><use xlink:href='#icon-database'></use></svg></label><div class='xr-var-attrs'><dl class='xr-attrs'><dt><span>long_name :</span></dt><dd>Time</dd><dt><span>standard_name :</span></dt><dd>time</dd><dt><span>coordinate_type :</span></dt><dd>time</dd><dt><span>_CoordinateAxisType :</span></dt><dd>Time</dd><dt><span>_ChunkSizes :</span></dt><dd>1024</dd></dl></div><div class='xr-var-data'><pre>array([&#x27;2011-01-01T02:00:00.000000000&#x27;, &#x27;2011-01-02T02:00:00.000000000&#x27;,\n",
       "       &#x27;2011-01-03T02:00:00.000000000&#x27;, ..., &#x27;2011-12-29T02:00:00.000000000&#x27;,\n",
       "       &#x27;2011-12-30T02:00:00.000000000&#x27;, &#x27;2011-12-31T02:00:00.000000000&#x27;],\n",
       "      dtype=&#x27;datetime64[ns]&#x27;)</pre></div></li><li class='xr-var-item'><div class='xr-var-name'><span class='xr-has-index'>latitude</span></div><div class='xr-var-dims'>(latitude)</div><div class='xr-var-dtype'>float64</div><div class='xr-var-preview xr-preview'>-25.79 -25.76 ... -24.86 -24.83</div><input id='attrs-e8250591-09e0-42ef-ab14-523cac286675' class='xr-var-attrs-in' type='checkbox' ><label for='attrs-e8250591-09e0-42ef-ab14-523cac286675' title='Show/Hide attributes'><svg class='icon xr-icon-file-text2'><use xlink:href='#icon-file-text2'></use></svg></label><input id='data-dd5a32ca-fe4b-42ba-a785-ed327a9cf373' class='xr-var-data-in' type='checkbox'><label for='data-dd5a32ca-fe4b-42ba-a785-ed327a9cf373' title='Show/Hide data repr'><svg class='icon xr-icon-database'><use xlink:href='#icon-database'></use></svg></label><div class='xr-var-attrs'><dl class='xr-attrs'><dt><span>units :</span></dt><dd>degrees_north</dd><dt><span>long_name :</span></dt><dd>Latitude</dd><dt><span>standard_name :</span></dt><dd>latitude</dd><dt><span>projection :</span></dt><dd>geographic</dd><dt><span>coordinate_type :</span></dt><dd>latitude</dd><dt><span>_CoordinateAxisType :</span></dt><dd>Lat</dd></dl></div><div class='xr-var-data'><pre>array([-25.786022, -25.756022, -25.726022, -25.696022, -25.666022, -25.636022,\n",
       "       -25.606022, -25.576022, -25.546022, -25.516022, -25.486022, -25.456022,\n",
       "       -25.426022, -25.396022, -25.366022, -25.336022, -25.306022, -25.276022,\n",
       "       -25.246022, -25.216022, -25.186022, -25.156022, -25.126022, -25.096022,\n",
       "       -25.066022, -25.036022, -25.006022, -24.976022, -24.946022, -24.916022,\n",
       "       -24.886022, -24.856022, -24.826022])</pre></div></li><li class='xr-var-item'><div class='xr-var-name'><span class='xr-has-index'>longitude</span></div><div class='xr-var-dims'>(longitude)</div><div class='xr-var-dtype'>float64</div><div class='xr-var-preview xr-preview'>152.3 152.3 152.4 ... 153.3 153.3</div><input id='attrs-37b6187a-b9aa-4b17-af59-ada9aaca54c7' class='xr-var-attrs-in' type='checkbox' ><label for='attrs-37b6187a-b9aa-4b17-af59-ada9aaca54c7' title='Show/Hide attributes'><svg class='icon xr-icon-file-text2'><use xlink:href='#icon-file-text2'></use></svg></label><input id='data-16edeadd-d976-4bde-abb2-fa81d4d33c69' class='xr-var-data-in' type='checkbox'><label for='data-16edeadd-d976-4bde-abb2-fa81d4d33c69' title='Show/Hide data repr'><svg class='icon xr-icon-database'><use xlink:href='#icon-database'></use></svg></label><div class='xr-var-attrs'><dl class='xr-attrs'><dt><span>units :</span></dt><dd>degrees_east</dd><dt><span>long_name :</span></dt><dd>Longitude</dd><dt><span>standard_name :</span></dt><dd>longitude</dd><dt><span>projection :</span></dt><dd>geographic</dd><dt><span>coordinate_type :</span></dt><dd>longitude</dd><dt><span>_CoordinateAxisType :</span></dt><dd>Lon</dd></dl></div><div class='xr-var-data'><pre>array([152.308788, 152.338788, 152.368788, 152.398788, 152.428788, 152.458788,\n",
       "       152.488788, 152.518788, 152.548788, 152.578788, 152.608788, 152.638788,\n",
       "       152.668788, 152.698788, 152.728788, 152.758788, 152.788788, 152.818788,\n",
       "       152.848788, 152.878788, 152.908788, 152.938788, 152.968788, 152.998788,\n",
       "       153.028788, 153.058788, 153.088788, 153.118788, 153.148788, 153.178788,\n",
       "       153.208788, 153.238788, 153.268788, 153.298788])</pre></div></li></ul></div></li><li class='xr-section-item'><input id='section-ab7436aa-0476-4002-9c91-484fa609cf62' class='xr-section-summary-in' type='checkbox'  checked><label for='section-ab7436aa-0476-4002-9c91-484fa609cf62' class='xr-section-summary' >Data variables: <span>(5)</span></label><div class='xr-section-inline-details'></div><div class='xr-section-details'><ul class='xr-var-list'><li class='xr-var-item'><div class='xr-var-name'><span>TOTAL_NITROGEN</span></div><div class='xr-var-dims'>(time, latitude, longitude)</div><div class='xr-var-dtype'>float32</div><div class='xr-var-preview xr-preview'>...</div><input id='attrs-651b7932-11f6-4f04-98c6-90d90f014503' class='xr-var-attrs-in' type='checkbox' disabled><label for='attrs-651b7932-11f6-4f04-98c6-90d90f014503' title='Show/Hide attributes'><svg class='icon xr-icon-file-text2'><use xlink:href='#icon-file-text2'></use></svg></label><input id='data-7c4340b4-100c-4b38-bbca-487071377d87' class='xr-var-data-in' type='checkbox'><label for='data-7c4340b4-100c-4b38-bbca-487071377d87' title='Show/Hide data repr'><svg class='icon xr-icon-database'><use xlink:href='#icon-database'></use></svg></label><div class='xr-var-attrs'><dl class='xr-attrs'></dl></div><div class='xr-var-data'><pre>[409530 values with dtype=float32]</pre></div></li><li class='xr-var-item'><div class='xr-var-name'><span>temp</span></div><div class='xr-var-dims'>(time, latitude, longitude)</div><div class='xr-var-dtype'>float32</div><div class='xr-var-preview xr-preview'>...</div><input id='attrs-bf7f1d6e-bf72-4893-9a80-6efe09f974e5' class='xr-var-attrs-in' type='checkbox' disabled><label for='attrs-bf7f1d6e-bf72-4893-9a80-6efe09f974e5' title='Show/Hide attributes'><svg class='icon xr-icon-file-text2'><use xlink:href='#icon-file-text2'></use></svg></label><input id='data-5c48601c-8c5b-4a2a-b569-b2dd232f7839' class='xr-var-data-in' type='checkbox'><label for='data-5c48601c-8c5b-4a2a-b569-b2dd232f7839' title='Show/Hide data repr'><svg class='icon xr-icon-database'><use xlink:href='#icon-database'></use></svg></label><div class='xr-var-attrs'><dl class='xr-attrs'></dl></div><div class='xr-var-data'><pre>[409530 values with dtype=float32]</pre></div></li><li class='xr-var-item'><div class='xr-var-name'><span>salinity</span></div><div class='xr-var-dims'>(time, latitude, longitude)</div><div class='xr-var-dtype'>float32</div><div class='xr-var-preview xr-preview'>...</div><input id='attrs-5592b13d-bcbf-4bf1-982d-9442c150dd12' class='xr-var-attrs-in' type='checkbox' disabled><label for='attrs-5592b13d-bcbf-4bf1-982d-9442c150dd12' title='Show/Hide attributes'><svg class='icon xr-icon-file-text2'><use xlink:href='#icon-file-text2'></use></svg></label><input id='data-3fc27f73-d7c0-4080-94fd-649856dc68eb' class='xr-var-data-in' type='checkbox'><label for='data-3fc27f73-d7c0-4080-94fd-649856dc68eb' title='Show/Hide data repr'><svg class='icon xr-icon-database'><use xlink:href='#icon-database'></use></svg></label><div class='xr-var-attrs'><dl class='xr-attrs'></dl></div><div class='xr-var-data'><pre>[409530 values with dtype=float32]</pre></div></li><li class='xr-var-item'><div class='xr-var-name'><span>light</span></div><div class='xr-var-dims'>(time, latitude, longitude)</div><div class='xr-var-dtype'>float32</div><div class='xr-var-preview xr-preview'>...</div><input id='attrs-f6333ab2-bbc7-4346-83bb-3003af3bc3d6' class='xr-var-attrs-in' type='checkbox' disabled><label for='attrs-f6333ab2-bbc7-4346-83bb-3003af3bc3d6' title='Show/Hide attributes'><svg class='icon xr-icon-file-text2'><use xlink:href='#icon-file-text2'></use></svg></label><input id='data-82902f77-8690-46e9-ac46-314cb59f8b46' class='xr-var-data-in' type='checkbox'><label for='data-82902f77-8690-46e9-ac46-314cb59f8b46' title='Show/Hide data repr'><svg class='icon xr-icon-database'><use xlink:href='#icon-database'></use></svg></label><div class='xr-var-attrs'><dl class='xr-attrs'></dl></div><div class='xr-var-data'><pre>[409530 values with dtype=float32]</pre></div></li><li class='xr-var-item'><div class='xr-var-name'><span>seagrass</span></div><div class='xr-var-dims'>(time, latitude, longitude)</div><div class='xr-var-dtype'>float32</div><div class='xr-var-preview xr-preview'>...</div><input id='attrs-564a904f-e909-464d-8d6a-09b3f7cd6382' class='xr-var-attrs-in' type='checkbox' disabled><label for='attrs-564a904f-e909-464d-8d6a-09b3f7cd6382' title='Show/Hide attributes'><svg class='icon xr-icon-file-text2'><use xlink:href='#icon-file-text2'></use></svg></label><input id='data-f78dda02-fa18-4a0e-b7ab-7df3a6951074' class='xr-var-data-in' type='checkbox'><label for='data-f78dda02-fa18-4a0e-b7ab-7df3a6951074' title='Show/Hide data repr'><svg class='icon xr-icon-database'><use xlink:href='#icon-database'></use></svg></label><div class='xr-var-attrs'><dl class='xr-attrs'></dl></div><div class='xr-var-data'><pre>[409530 values with dtype=float32]</pre></div></li></ul></div></li><li class='xr-section-item'><input id='section-74e9cb88-f4b4-4a44-988a-ae1eb08ef683' class='xr-section-summary-in' type='checkbox' disabled ><label for='section-74e9cb88-f4b4-4a44-988a-ae1eb08ef683' class='xr-section-summary'  title='Expand/collapse section'>Attributes: <span>(0)</span></label><div class='xr-section-inline-details'></div><div class='xr-section-details'><dl class='xr-attrs'></dl></div></li></ul></div></div>"
      ],
      "text/plain": [
       "<xarray.Dataset>\n",
       "Dimensions:         (time: 365, latitude: 33, longitude: 34)\n",
       "Coordinates:\n",
       "  * time            (time) datetime64[ns] 2011-01-01T02:00:00 ... 2011-12-31T...\n",
       "  * latitude        (latitude) float64 -25.79 -25.76 -25.73 ... -24.86 -24.83\n",
       "  * longitude       (longitude) float64 152.3 152.3 152.4 ... 153.2 153.3 153.3\n",
       "Data variables:\n",
       "    TOTAL_NITROGEN  (time, latitude, longitude) float32 ...\n",
       "    temp            (time, latitude, longitude) float32 ...\n",
       "    salinity        (time, latitude, longitude) float32 ...\n",
       "    light           (time, latitude, longitude) float32 ...\n",
       "    seagrass        (time, latitude, longitude) float32 ..."
      ]
     },
     "execution_count": 7,
     "metadata": {},
     "output_type": "execute_result"
    }
   ],
   "source": [
    "HerveyBay2011"
   ]
  },
  {
   "cell_type": "markdown",
   "id": "aef248f8",
   "metadata": {},
   "source": [
    "### Defining the plotting funciton "
   ]
  },
  {
   "cell_type": "markdown",
   "id": "9b6658ce",
   "metadata": {},
   "source": [
    "The plotting function takes several arguments:\n",
    "    \n",
    "+ `ncdata`: the datafile like `HerveyBay2011`\n",
    "+ `day`   : a specific integer corresponding a day in the year\n",
    "+ `year`  : the specified year\n",
    "+ `fname` : the name of the figure \n",
    "+ `show`  : showing the plot in the notebook or not (default is False)\n",
    "+ `size`  : size of the figure (default (9, 10))\n",
    "+ `color` : color used to plot the variable (default cmocean.cm.balance)'\n"
   ]
  },
  {
   "cell_type": "markdown",
   "id": "2079ac7a",
   "metadata": {},
   "source": [
    "Here we will be using seagrass density as the example\n",
    "\n",
    "Note: you will need to change the 'cbar.set_label('______', ...)' when plotting each variable to ensure graphs are correctly labeled"
   ]
  },
  {
   "cell_type": "code",
   "execution_count": 8,
   "id": "8a0cc2b5",
   "metadata": {},
   "outputs": [],
   "source": [
    "def plotSGFig(ncdata, day, year, fname, show=False,\n",
    "              size=(9, 10),color=cmocean.cm.balance):\n",
    "    \n",
    "    data = ncdata.isel(time=day)\n",
    "    \n",
    "    fig = plt.figure(figsize=size, facecolor='w', edgecolor='k')\n",
    "    ax = plt.axes(projection=ccrs.PlateCarree())\n",
    "    cf = data.plot( \n",
    "        transform=ccrs.PlateCarree(), cmap=color,\n",
    "        add_colorbar=False\n",
    "    )\n",
    "    cbar = fig.colorbar(cf, ax=ax, fraction=0.027, pad=0.045, \n",
    "                        orientation=\"horizontal\")\n",
    "# Adding label and gridlines \n",
    "\n",
    "    cbar.set_label('Seagrass N (g N m-2)', rotation=0, \n",
    "                   labelpad=5, fontsize=12)\n",
    "    cbar.ax.tick_params(labelsize=10)\n",
    "    gl = ax.gridlines(crs=ccrs.PlateCarree(), draw_labels=True,\n",
    "                      linewidth=0.1, color='k', alpha=1, \n",
    "                      linestyle='--')\n",
    "    \n",
    "    gl.top_labels = False\n",
    "    gl.right_labels = False\n",
    "    gl.xformatter = LONGITUDE_FORMATTER\n",
    "    gl.yformatter = LATITUDE_FORMATTER\n",
    "    gl.xlabel_style = {'size': 10}\n",
    "    gl.ylabel_style = {'size': 10} \n",
    "    ax.add_feature(cfeature.NaturalEarthFeature('physical', 'land', '10m', \n",
    "                                                edgecolor='face', \n",
    "                                                facecolor='lightgray'))\n",
    "    ax.coastlines(linewidth=1)\n",
    "    plt.tight_layout()\n",
    "    plt.savefig(fname+'_'+str(year)+'_'+str(day)+\".png\",dpi=200, \n",
    "                    bbox_inches='tight')\n",
    "    if show:\n",
    "        plt.show()\n",
    "        \n",
    "    fig.clear()\n",
    "    plt.close(fig)\n",
    "    plt.clf()\n",
    "    \n",
    "    return"
   ]
  },
  {
   "cell_type": "markdown",
   "id": "52ee4bf5",
   "metadata": {},
   "source": [
    "Here we can view the frames the plotting funciton will take. For this example we will use a frame Hervey Bay for the year 2011 for the day 0 of the year i.e the 1st of January 2011\n",
    "\n",
    "Note: The fname is the name of the figure and corresponds to the file where the images are saved. There will be a folder for each variable at each site. "
   ]
  },
  {
   "cell_type": "code",
   "execution_count": 9,
   "id": "21f63988",
   "metadata": {},
   "outputs": [
    {
     "data": {
      "image/png": "[encoded data removed]",
      "text/plain": [
       "<Figure size 900x1000 with 2 Axes>"
      ]
     },
     "metadata": {},
     "output_type": "display_data"
    },
    {
     "data": {
      "text/plain": [
       "<Figure size 640x480 with 0 Axes>"
      ]
     },
     "metadata": {},
     "output_type": "display_data"
    }
   ],
   "source": [
    "fname = 'HerveyBay/Seagrass'\n",
    "plotSGFig(HerveyBay2011.seagrass, 0, 2011, fname, show=True,\n",
    "              size=(9, 10),color=cmocean.cm.balance)"
   ]
  },
  {
   "cell_type": "markdown",
   "id": "2468698c",
   "metadata": {},
   "source": [
    "### Creating individual frames to combine for the GIFs"
   ]
  },
  {
   "cell_type": "markdown",
   "id": "26eb2cf4",
   "metadata": {},
   "source": [
    "We will create each figure with a chosen initial interval between consecutive figures. We want to achieve a GIF which includes a figure from roughly each month for each year, so we are choosing the interval of 29. \n",
    "\n",
    "Note: This will capture a figure every 30 days in the regular world as in the coding world counting starts at 0"
   ]
  },
  {
   "cell_type": "code",
   "execution_count": 10,
   "id": "059169d0",
   "metadata": {},
   "outputs": [],
   "source": [
    "interval = 29"
   ]
  },
  {
   "cell_type": "markdown",
   "id": "772a3f33",
   "metadata": {},
   "source": [
    "Now we run our defined plotting function to create a plot every 30 days for 2011"
   ]
  },
  {
   "cell_type": "code",
   "execution_count": 11,
   "id": "09cbd715",
   "metadata": {},
   "outputs": [
    {
     "data": {
      "text/plain": [
       "<Figure size 640x480 with 0 Axes>"
      ]
     },
     "metadata": {},
     "output_type": "display_data"
    }
   ],
   "source": [
    "year = 2011\n",
    "fname = 'HerveyBay/Seagrass'\n",
    "imgs = [] \n",
    "for day in range(0,len(HerveyBay2011.time),29):\n",
    "    plotSGFig(HerveyBay2011.seagrass, day, year, fname, show=False,\n",
    "              size=(9, 10),color=cmocean.cm.balance)\n",
    "    imgs.append(fname+'_'+str(year)+'_'+str(day)+\".png\")"
   ]
  },
  {
   "cell_type": "markdown",
   "id": "78d9cd05",
   "metadata": {},
   "source": [
    "We now create the frames for the GIFs"
   ]
  },
  {
   "cell_type": "code",
   "execution_count": 12,
   "id": "1196c0d5",
   "metadata": {},
   "outputs": [],
   "source": [
    "frames = []\n",
    "for i in imgs:\n",
    "    new_frame = Image.open(i)\n",
    "    frames.append(new_frame)"
   ]
  },
  {
   "cell_type": "markdown",
   "id": "f7db1705",
   "metadata": {},
   "source": [
    "Finally, here we save the GIF into the corresponding folder mentioned above"
   ]
  },
  {
   "cell_type": "code",
   "execution_count": null,
   "id": "316b32b5",
   "metadata": {},
   "outputs": [],
   "source": [
    "frames[0].save(fname+str(year)+'.gif', format='GIF',\n",
    "               append_images=frames[1:],\n",
    "               save_all=True,\n",
    "               duration=500, loop=0)"
   ]
  },
  {
   "cell_type": "markdown",
   "id": "79a7a512",
   "metadata": {},
   "source": [
    "This needs to be repeated for each year, site and variable to obtain each GIF. \n",
    "\n",
    "See the GIFs for each site on the main branch to get an idea of what they look like. For our report we focused on the seagrass GIFs, but the others provided useful insights into the variable changes and compliment the results. "
   ]
  }
 ],
 "metadata": {
  "kernelspec": {
   "display_name": "Python 3 (ipykernel)",
   "language": "python",
   "name": "python3"
  },
  "language_info": {
   "codemirror_mode": {
    "name": "ipython",
    "version": 3
   },
   "file_extension": ".py",
   "mimetype": "text/x-python",
   "name": "python",
   "nbconvert_exporter": "python",
   "pygments_lexer": "ipython3",
   "version": "3.10.8"
  }
 },
 "nbformat": 4,
 "nbformat_minor": 5
}
